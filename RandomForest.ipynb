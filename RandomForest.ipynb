{
  "nbformat": 4,
  "nbformat_minor": 0,
  "metadata": {
    "colab": {
      "name": "RandomForest.ipynb",
      "provenance": [],
      "authorship_tag": "ABX9TyNAQTUFquzIM7x2wEPVvnx+",
      "include_colab_link": true
    },
    "kernelspec": {
      "name": "python3",
      "display_name": "Python 3"
    },
    "language_info": {
      "name": "python"
    }
  },
  "cells": [
    {
      "cell_type": "markdown",
      "metadata": {
        "id": "view-in-github",
        "colab_type": "text"
      },
      "source": [
        "<a href=\"https://colab.research.google.com/github/vankiee/ML_for_data_analysis/blob/main/RandomForest.ipynb\" target=\"_parent\"><img src=\"https://colab.research.google.com/assets/colab-badge.svg\" alt=\"Open In Colab\"/></a>"
      ]
    },
    {
      "cell_type": "markdown",
      "metadata": {
        "id": "uE4zgvBIysFW"
      },
      "source": [
        "# Import libraries"
      ]
    },
    {
      "cell_type": "code",
      "metadata": {
        "id": "OT7rAFtiDB4W"
      },
      "source": [
        "import pandas as pd \n",
        "from sklearn import metrics, datasets\n",
        "from sklearn.model_selection import train_test_split, cross_val_score, cross_val_predict, RepeatedStratifiedKFold\n",
        "from sklearn.metrics import classification_report\n",
        "from sklearn.ensemble import RandomForestClassifier, ExtraTreesClassifier\n",
        "from sklearn.impute import SimpleImputer\n",
        "from sklearn.pipeline import Pipeline\n",
        "import numpy as np\n",
        "import matplotlib.pylab as plt\n",
        "from matplotlib import pyplot"
      ],
      "execution_count": 161,
      "outputs": []
    },
    {
      "cell_type": "markdown",
      "metadata": {
        "id": "nXVLS2xSywIS"
      },
      "source": [
        "# Clean data"
      ]
    },
    {
      "cell_type": "code",
      "metadata": {
        "colab": {
          "base_uri": "https://localhost:8080/",
          "height": 479
        },
        "id": "S8sbOPvbLZgJ",
        "outputId": "0950e886-818b-4910-b40b-3794938ac0e1"
      },
      "source": [
        "df = pd.read_csv('/content/gapminder.csv')\n",
        "df[df.columns[1:]] = df.iloc[:, 1:].apply(pd.to_numeric, errors = 'coerce') \n",
        "dataset = df[df['lifeexpectancy'].notna()].reset_index(drop = True)\n",
        "dataset"
      ],
      "execution_count": 80,
      "outputs": [
        {
          "output_type": "execute_result",
          "data": {
            "text/html": [
              "<div>\n",
              "<style scoped>\n",
              "    .dataframe tbody tr th:only-of-type {\n",
              "        vertical-align: middle;\n",
              "    }\n",
              "\n",
              "    .dataframe tbody tr th {\n",
              "        vertical-align: top;\n",
              "    }\n",
              "\n",
              "    .dataframe thead th {\n",
              "        text-align: right;\n",
              "    }\n",
              "</style>\n",
              "<table border=\"1\" class=\"dataframe\">\n",
              "  <thead>\n",
              "    <tr style=\"text-align: right;\">\n",
              "      <th></th>\n",
              "      <th>country</th>\n",
              "      <th>incomeperperson</th>\n",
              "      <th>alcconsumption</th>\n",
              "      <th>armedforcesrate</th>\n",
              "      <th>breastcancerper100th</th>\n",
              "      <th>co2emissions</th>\n",
              "      <th>femaleemployrate</th>\n",
              "      <th>hivrate</th>\n",
              "      <th>internetuserate</th>\n",
              "      <th>lifeexpectancy</th>\n",
              "      <th>oilperperson</th>\n",
              "      <th>polityscore</th>\n",
              "      <th>relectricperperson</th>\n",
              "      <th>suicideper100th</th>\n",
              "      <th>employrate</th>\n",
              "      <th>urbanrate</th>\n",
              "    </tr>\n",
              "  </thead>\n",
              "  <tbody>\n",
              "    <tr>\n",
              "      <th>0</th>\n",
              "      <td>Afghanistan</td>\n",
              "      <td>NaN</td>\n",
              "      <td>0.03</td>\n",
              "      <td>0.569653</td>\n",
              "      <td>26.8</td>\n",
              "      <td>7.594400e+07</td>\n",
              "      <td>25.600000</td>\n",
              "      <td>NaN</td>\n",
              "      <td>3.654122</td>\n",
              "      <td>48.673</td>\n",
              "      <td>NaN</td>\n",
              "      <td>0.0</td>\n",
              "      <td>NaN</td>\n",
              "      <td>6.684385</td>\n",
              "      <td>55.700001</td>\n",
              "      <td>24.04</td>\n",
              "    </tr>\n",
              "    <tr>\n",
              "      <th>1</th>\n",
              "      <td>Albania</td>\n",
              "      <td>1914.996551</td>\n",
              "      <td>7.29</td>\n",
              "      <td>1.024736</td>\n",
              "      <td>57.4</td>\n",
              "      <td>2.237473e+08</td>\n",
              "      <td>42.099998</td>\n",
              "      <td>NaN</td>\n",
              "      <td>44.989947</td>\n",
              "      <td>76.918</td>\n",
              "      <td>NaN</td>\n",
              "      <td>9.0</td>\n",
              "      <td>636.341383</td>\n",
              "      <td>7.699330</td>\n",
              "      <td>51.400002</td>\n",
              "      <td>46.72</td>\n",
              "    </tr>\n",
              "    <tr>\n",
              "      <th>2</th>\n",
              "      <td>Algeria</td>\n",
              "      <td>2231.993335</td>\n",
              "      <td>0.69</td>\n",
              "      <td>2.306817</td>\n",
              "      <td>23.5</td>\n",
              "      <td>2.932109e+09</td>\n",
              "      <td>31.700001</td>\n",
              "      <td>0.1</td>\n",
              "      <td>12.500073</td>\n",
              "      <td>73.131</td>\n",
              "      <td>0.420095</td>\n",
              "      <td>2.0</td>\n",
              "      <td>590.509814</td>\n",
              "      <td>4.848770</td>\n",
              "      <td>50.500000</td>\n",
              "      <td>65.22</td>\n",
              "    </tr>\n",
              "    <tr>\n",
              "      <th>3</th>\n",
              "      <td>Angola</td>\n",
              "      <td>1381.004268</td>\n",
              "      <td>5.57</td>\n",
              "      <td>1.461329</td>\n",
              "      <td>23.1</td>\n",
              "      <td>2.483580e+08</td>\n",
              "      <td>69.400002</td>\n",
              "      <td>2.0</td>\n",
              "      <td>9.999954</td>\n",
              "      <td>51.093</td>\n",
              "      <td>NaN</td>\n",
              "      <td>-2.0</td>\n",
              "      <td>172.999227</td>\n",
              "      <td>14.554677</td>\n",
              "      <td>75.699997</td>\n",
              "      <td>56.70</td>\n",
              "    </tr>\n",
              "    <tr>\n",
              "      <th>4</th>\n",
              "      <td>Argentina</td>\n",
              "      <td>10749.419238</td>\n",
              "      <td>9.35</td>\n",
              "      <td>0.560987</td>\n",
              "      <td>73.9</td>\n",
              "      <td>5.872119e+09</td>\n",
              "      <td>45.900002</td>\n",
              "      <td>0.5</td>\n",
              "      <td>36.000335</td>\n",
              "      <td>75.901</td>\n",
              "      <td>0.635944</td>\n",
              "      <td>8.0</td>\n",
              "      <td>768.428300</td>\n",
              "      <td>7.765584</td>\n",
              "      <td>58.400002</td>\n",
              "      <td>92.00</td>\n",
              "    </tr>\n",
              "    <tr>\n",
              "      <th>...</th>\n",
              "      <td>...</td>\n",
              "      <td>...</td>\n",
              "      <td>...</td>\n",
              "      <td>...</td>\n",
              "      <td>...</td>\n",
              "      <td>...</td>\n",
              "      <td>...</td>\n",
              "      <td>...</td>\n",
              "      <td>...</td>\n",
              "      <td>...</td>\n",
              "      <td>...</td>\n",
              "      <td>...</td>\n",
              "      <td>...</td>\n",
              "      <td>...</td>\n",
              "      <td>...</td>\n",
              "      <td>...</td>\n",
              "    </tr>\n",
              "    <tr>\n",
              "      <th>186</th>\n",
              "      <td>Vietnam</td>\n",
              "      <td>722.807559</td>\n",
              "      <td>3.91</td>\n",
              "      <td>1.085367</td>\n",
              "      <td>16.2</td>\n",
              "      <td>1.425435e+09</td>\n",
              "      <td>67.599998</td>\n",
              "      <td>0.4</td>\n",
              "      <td>27.851822</td>\n",
              "      <td>75.181</td>\n",
              "      <td>NaN</td>\n",
              "      <td>-7.0</td>\n",
              "      <td>302.725655</td>\n",
              "      <td>11.653322</td>\n",
              "      <td>71.000000</td>\n",
              "      <td>27.84</td>\n",
              "    </tr>\n",
              "    <tr>\n",
              "      <th>187</th>\n",
              "      <td>West Bank and Gaza</td>\n",
              "      <td>NaN</td>\n",
              "      <td>NaN</td>\n",
              "      <td>5.936085</td>\n",
              "      <td>NaN</td>\n",
              "      <td>1.424133e+07</td>\n",
              "      <td>11.300000</td>\n",
              "      <td>NaN</td>\n",
              "      <td>36.422772</td>\n",
              "      <td>72.832</td>\n",
              "      <td>NaN</td>\n",
              "      <td>NaN</td>\n",
              "      <td>NaN</td>\n",
              "      <td>NaN</td>\n",
              "      <td>32.000000</td>\n",
              "      <td>71.90</td>\n",
              "    </tr>\n",
              "    <tr>\n",
              "      <th>188</th>\n",
              "      <td>Yemen, Rep.</td>\n",
              "      <td>610.357367</td>\n",
              "      <td>0.20</td>\n",
              "      <td>2.316235</td>\n",
              "      <td>35.1</td>\n",
              "      <td>2.348647e+08</td>\n",
              "      <td>20.299999</td>\n",
              "      <td>NaN</td>\n",
              "      <td>12.349750</td>\n",
              "      <td>65.493</td>\n",
              "      <td>NaN</td>\n",
              "      <td>-2.0</td>\n",
              "      <td>130.057831</td>\n",
              "      <td>6.265789</td>\n",
              "      <td>39.000000</td>\n",
              "      <td>30.64</td>\n",
              "    </tr>\n",
              "    <tr>\n",
              "      <th>189</th>\n",
              "      <td>Zambia</td>\n",
              "      <td>432.226337</td>\n",
              "      <td>3.56</td>\n",
              "      <td>0.341335</td>\n",
              "      <td>13.0</td>\n",
              "      <td>1.320257e+08</td>\n",
              "      <td>53.500000</td>\n",
              "      <td>13.5</td>\n",
              "      <td>10.124986</td>\n",
              "      <td>49.025</td>\n",
              "      <td>NaN</td>\n",
              "      <td>7.0</td>\n",
              "      <td>168.623031</td>\n",
              "      <td>12.019036</td>\n",
              "      <td>61.000000</td>\n",
              "      <td>35.42</td>\n",
              "    </tr>\n",
              "    <tr>\n",
              "      <th>190</th>\n",
              "      <td>Zimbabwe</td>\n",
              "      <td>320.771890</td>\n",
              "      <td>4.96</td>\n",
              "      <td>1.032785</td>\n",
              "      <td>19.0</td>\n",
              "      <td>5.902197e+08</td>\n",
              "      <td>58.099998</td>\n",
              "      <td>14.3</td>\n",
              "      <td>11.500415</td>\n",
              "      <td>51.384</td>\n",
              "      <td>NaN</td>\n",
              "      <td>1.0</td>\n",
              "      <td>297.883200</td>\n",
              "      <td>13.905267</td>\n",
              "      <td>66.800003</td>\n",
              "      <td>37.34</td>\n",
              "    </tr>\n",
              "  </tbody>\n",
              "</table>\n",
              "<p>191 rows × 16 columns</p>\n",
              "</div>"
            ],
            "text/plain": [
              "                country  incomeperperson  ...  employrate  urbanrate\n",
              "0           Afghanistan              NaN  ...   55.700001      24.04\n",
              "1               Albania      1914.996551  ...   51.400002      46.72\n",
              "2               Algeria      2231.993335  ...   50.500000      65.22\n",
              "3                Angola      1381.004268  ...   75.699997      56.70\n",
              "4             Argentina     10749.419238  ...   58.400002      92.00\n",
              "..                  ...              ...  ...         ...        ...\n",
              "186             Vietnam       722.807559  ...   71.000000      27.84\n",
              "187  West Bank and Gaza              NaN  ...   32.000000      71.90\n",
              "188         Yemen, Rep.       610.357367  ...   39.000000      30.64\n",
              "189              Zambia       432.226337  ...   61.000000      35.42\n",
              "190            Zimbabwe       320.771890  ...   66.800003      37.34\n",
              "\n",
              "[191 rows x 16 columns]"
            ]
          },
          "metadata": {},
          "execution_count": 80
        }
      ]
    },
    {
      "cell_type": "code",
      "metadata": {
        "id": "Xjac7B-Gxzvy"
      },
      "source": [
        "dataset['lifeexpectancy'] = [1 if x >= 76.6 else 0 for x in dataset['lifeexpectancy']]"
      ],
      "execution_count": 81,
      "outputs": []
    },
    {
      "cell_type": "markdown",
      "metadata": {
        "id": "FzzzuBsYy0XU"
      },
      "source": [
        "# Fitting Model"
      ]
    },
    {
      "cell_type": "code",
      "metadata": {
        "id": "7rC5wZ4wLiiX"
      },
      "source": [
        "predictors = dataset[dataset.columns.drop(['country', 'lifeexpectancy'])]\n",
        "target = dataset['lifeexpectancy']"
      ],
      "execution_count": 82,
      "outputs": []
    },
    {
      "cell_type": "markdown",
      "metadata": {
        "id": "0ZfLef9Fy3LP"
      },
      "source": [
        "### Strategies to fill NaN"
      ]
    },
    {
      "cell_type": "code",
      "metadata": {
        "colab": {
          "base_uri": "https://localhost:8080/",
          "height": 339
        },
        "id": "hbdMJHftPT5Z",
        "outputId": "4e705318-6315-4e2e-e0d3-57be0253346f"
      },
      "source": [
        "randomForest = RandomForestClassifier(n_estimators=25)\n",
        "strategies = ['mean', 'median', 'most_frequent', 'constant']\n",
        "results = []\n",
        "\n",
        "for strategy in strategies:\n",
        "  imputer = SimpleImputer(strategy=strategy)\n",
        "  pipeline = Pipeline(steps=[('imputer', imputer), ('randomForest', randomForest)])\n",
        "  cv = RepeatedStratifiedKFold(n_splits=10, n_repeats=3, random_state=1)\n",
        "  scores = cross_val_score(pipeline, predictors, target, cv=cv, scoring='accuracy', n_jobs=-1)\n",
        "  results.append(scores)\n",
        "  print(strategy, 'Mean:', np.mean(scores), 'SD:', np.std(scores))\n",
        "\n",
        "pyplot.boxplot(results, labels=strategies, showmeans=True)\n",
        "pyplot.show()"
      ],
      "execution_count": 154,
      "outputs": [
        {
          "output_type": "stream",
          "name": "stdout",
          "text": [
            "mean Mean: 0.8899122807017542 SD: 0.07372831804335428\n",
            "median Mean: 0.9005263157894736 SD: 0.07221083320481052\n",
            "most_frequent Mean: 0.8987719298245612 SD: 0.06216594319794694\n",
            "constant Mean: 0.9041228070175439 SD: 0.06488388425828083\n"
          ]
        },
        {
          "output_type": "display_data",
          "data": {
            "image/png": "[encoded data removed]",
            "text/plain": [
              "<Figure size 432x288 with 1 Axes>"
            ]
          },
          "metadata": {
            "needs_background": "light"
          }
        }
      ]
    },
    {
      "cell_type": "markdown",
      "metadata": {
        "id": "Lu2_m-YPLQpW"
      },
      "source": [
        "### Fitting random forest"
      ]
    },
    {
      "cell_type": "code",
      "metadata": {
        "colab": {
          "base_uri": "https://localhost:8080/"
        },
        "id": "j0IvbFwayKy2",
        "outputId": "98af7b4c-6556-45da-c176-d8e3c1a2f4f6"
      },
      "source": [
        "randomForest = RandomForestClassifier(n_estimators=25)\n",
        "imputer = SimpleImputer(strategy='median')\n",
        "pipeline = Pipeline(steps=[('imputer', imputer), ('randomForest', randomForest)])\n",
        "predictions = cross_val_predict(pipeline, predictors, target, cv=10)\n",
        "print('accuracy:', metrics.accuracy_score(target, predictions))\n",
        "metrics.confusion_matrix(target, predictions)"
      ],
      "execution_count": 150,
      "outputs": [
        {
          "output_type": "stream",
          "name": "stdout",
          "text": [
            "accuracy: 0.9109947643979057\n"
          ]
        },
        {
          "output_type": "execute_result",
          "data": {
            "text/plain": [
              "array([[136,   7],\n",
              "       [ 10,  38]])"
            ]
          },
          "metadata": {},
          "execution_count": 150
        }
      ]
    },
    {
      "cell_type": "markdown",
      "metadata": {
        "id": "6PrT6JcJLTTv"
      },
      "source": [
        "### Finding feature importance rank"
      ]
    },
    {
      "cell_type": "code",
      "metadata": {
        "colab": {
          "base_uri": "https://localhost:8080/",
          "height": 265
        },
        "id": "cPju4yKVKFtn",
        "outputId": "ef395317-4db4-49f4-ad49-79b9f69f72eb"
      },
      "source": [
        "extraTree = ExtraTreesClassifier()\n",
        "imputer = SimpleImputer(strategy='median')\n",
        "pipeline = Pipeline(steps=[('imputer', imputer), ('extraTree', extraTree)])\n",
        "\n",
        "pipeline.fit(predictors, target)\n",
        "features = list(zip(predictors, pipeline.named_steps['extraTree'].feature_importances_))\n",
        "\n",
        "featuresDf = pd.DataFrame(features).rename(columns={0: 'feature_names', \n",
        "                                                    1: 'feature_importance'}).set_index('feature_names')\n",
        "\n",
        "_ = featuresDf.sort_values(by='feature_importance').plot.barh(orientation='horizontal')"
      ],
      "execution_count": 145,
      "outputs": [
        {
          "output_type": "display_data",
          "data": {
            "image/png": "[encoded data removed]",
            "text/plain": [
              "<Figure size 432x288 with 1 Axes>"
            ]
          },
          "metadata": {
            "needs_background": "light"
          }
        }
      ]
    },
    {
      "cell_type": "markdown",
      "metadata": {
        "id": "sInqqGySgCHr"
      },
      "source": [
        "# See effect of different number of trees on prediction accuracy"
      ]
    },
    {
      "cell_type": "code",
      "metadata": {
        "colab": {
          "base_uri": "https://localhost:8080/",
          "height": 283
        },
        "id": "r_OmPXnRNlxd",
        "outputId": "42ca93d8-df6f-4969-cacb-316795f7ff9d"
      },
      "source": [
        "trees = range(25)\n",
        "accuracy = np.zeros(25)\n",
        "\n",
        "for idx in range(len(trees)):\n",
        "  classifier = RandomForestClassifier(n_estimators=idx+1)\n",
        "  pipeline = Pipeline(steps=[('i', SimpleImputer(strategy='median')),\n",
        "                              ('m', RandomForestClassifier())])\n",
        "  predictions = cross_val_predict(pipeline, predictors, target, cv=10)\n",
        "  accuracy[idx] = metrics.accuracy_score(target, predictions)\n",
        "\n",
        "plt.plot(trees, accuracy)"
      ],
      "execution_count": 163,
      "outputs": [
        {
          "output_type": "execute_result",
          "data": {
            "text/plain": [
              "[<matplotlib.lines.Line2D at 0x7fee54623e90>]"
            ]
          },
          "metadata": {},
          "execution_count": 163
        },
        {
          "output_type": "display_data",
          "data": {
            "image/png": "[encoded data removed]",
            "text/plain": [
              "<Figure size 432x288 with 1 Axes>"
            ]
          },
          "metadata": {
            "needs_background": "light"
          }
        }
      ]
    },
    {
      "cell_type": "markdown",
      "metadata": {
        "id": "CXAz1q3tgw-r"
      },
      "source": [
        "# Conclusion\n",
        "\n",
        "The explanatory variables with the highest relative importance scores were income per person, internet use rate, breast cancer per 100,000 female, and urban rate. The accuracy of the random forest was 91%. 4-5 trees suffice to reach high prediction accuracy."
      ]
    }
  ]
}